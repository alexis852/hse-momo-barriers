{
 "cells": [
  {
   "cell_type": "markdown",
   "metadata": {},
   "source": [
    "# Эксперимент 1"
   ]
  },
  {
   "cell_type": "code",
   "execution_count": null,
   "metadata": {},
   "outputs": [],
   "source": [
    "import numpy as np\n",
    "import matplotlib.pyplot as plt\n",
    "import seaborn as sns\n",
    "from optimization import barrier_method_lasso\n",
    "\n",
    "sns.set(style='whitegrid')\n",
    "%matplotlib inline\n",
    "%config InlineBackend.figure_format = 'retina'"
   ]
  },
  {
   "cell_type": "code",
   "execution_count": null,
   "metadata": {},
   "outputs": [],
   "source": [
    "np.random.seed(2022)\n",
    "A = np.random.rand(10000, 500)\n",
    "b = np.random.rand(10000)\n",
    "reg_coef = 1.0\n",
    "x_0, u_0 = np.zeros(500), 10 * np.ones(500)"
   ]
  },
  {
   "cell_type": "code",
   "execution_count": null,
   "metadata": {},
   "outputs": [],
   "source": [
    "def experiment_a(A, b, reg_coef, x_0, u_0, params, graph_type, figsize):\n",
    "    plt.figure(figsize=figsize)\n",
    "    formats = ['X:', 's-', '^--', 'D-.'] # <= 4 lines\n",
    "    for param, fmt in zip(params['plot']['grid'], formats):\n",
    "        kwargs = {params['fix']['name']: params['fix']['value'],\n",
    "                  params['plot']['name']: param}\n",
    "        _, message, history = barrier_method_lasso(A, b, reg_coef, x_0, u_0, trace=True, **kwargs)\n",
    "        print(message) # assert message == 'success'\n",
    "        x = np.arange(len(history['duality_gap'])) if graph_type == 'i' else np.array(history['time']) * 1000\n",
    "        y = history['duality_gap']\n",
    "        plt.plot(x, y, fmt, label=f\"{params['plot']['name']} = {param}\", linewidth=3, markersize=10)\n",
    "\n",
    "    plt.title(f\"{params['fix']['name']} = {params['fix']['value']}\", fontsize=14)\n",
    "    plt.xlabel('iterations' if graph_type == 'i' else 'time (ms)', fontsize=14)\n",
    "    plt.ylabel('duality gap', fontsize=14)\n",
    "    plt.yscale('log')\n",
    "    plt.legend(fontsize=12)\n",
    "    plt.savefig(f\"exp_a_{params['fix']['name']}_{params['fix']['value']}_{graph_type}.pdf\", bbox_inches='tight')"
   ]
  },
  {
   "cell_type": "code",
   "execution_count": null,
   "metadata": {},
   "outputs": [],
   "source": [
    "gammas = [10, 100, 1000, 10000]\n",
    "tolerances = [1e-5, 1e-8, 1e-10, 1e-12]\n",
    "\n",
    "params = {'fix':  {'name': 'gamma', 'value': 10}, # default value\n",
    "          'plot': {'name': 'tolerance_inner', 'grid': tolerances}}\n",
    "experiment_a(A, b, reg_coef, x_0, u_0, params, 'i', (6, 4.5))\n",
    "experiment_a(A, b, reg_coef, x_0, u_0, params, 't', (6, 4.5))\n",
    "\n",
    "params = {'fix':  {'name': 'tolerance_inner', 'value': 1e-8}, # default value\n",
    "          'plot': {'name': 'gamma', 'grid': gammas}}\n",
    "experiment_a(A, b, reg_coef, x_0, u_0, params, 'i', (6, 4.5))\n",
    "experiment_a(A, b, reg_coef, x_0, u_0, params, 't', (6, 4.5))"
   ]
  },
  {
   "cell_type": "markdown",
   "metadata": {},
   "source": [
    "# Эксперимент 2"
   ]
  },
  {
   "cell_type": "code",
   "execution_count": null,
   "metadata": {},
   "outputs": [],
   "source": [
    "def configure_plot(m, n, xlabel):\n",
    "    plt.title(f\"m = {m}, n = {n}\", fontsize=14)\n",
    "    plt.xlabel(xlabel, fontsize=14)\n",
    "    plt.ylabel('duality gap', fontsize=14)\n",
    "    plt.yscale('log')\n",
    "    plt.legend(fontsize=12)\n",
    "    plt.savefig(f\"exp_b_{m}_{n}_{xlabel[0]}.pdf\", bbox_inches='tight')\n",
    "    plt.clf()\n",
    "\n",
    "\n",
    "def experiment_b(datasets, regcoefs, figsize):\n",
    "    plt.figure(figsize=figsize)\n",
    "    formats = ['X:', 's-', '^--', 'D-.'] # 4 lines\n",
    "    for A, b, x_0, u_0 in datasets:\n",
    "        data_x, data_y = [], []\n",
    "        for reg_coef in regcoefs:\n",
    "            _, message, history = barrier_method_lasso(A, b, reg_coef, x_0, u_0, trace=True)\n",
    "            print(message) # assert message == 'success'\n",
    "            data_x.append(np.array(history['time']) * 1000)\n",
    "            data_y.append(history['duality_gap'])\n",
    "        for y, reg_coef, fmt in zip(data_y, regcoefs, formats):\n",
    "            plt.plot(np.arange(len(y)), y, fmt, label=f\"reg_coef = {reg_coef}\", linewidth=3, markersize=10)\n",
    "        configure_plot(b.size, x_0.size, 'iterations')\n",
    "        for x, y, reg_coef, fmt in zip(data_x, data_y, regcoefs, formats):\n",
    "            plt.plot(x, y, fmt, label=f\"reg_coef = {reg_coef}\", linewidth=3, markersize=10)"
   ]
  },
  {
   "cell_type": "code",
   "execution_count": null,
   "metadata": {},
   "outputs": [],
   "source": [
    "m_dims = [1000, 5000, 10000]\n",
    "n_dims = [50, 100, 1000]\n",
    "regcoefs = [0.1, 1, 10, 200]\n",
    "datasets = []\n",
    "\n",
    "np.random.seed(2022)\n",
    "for m in m_dims:\n",
    "    for n in n_dims:\n",
    "        A = np.random.rand(m, n)\n",
    "        b = np.random.rand(m)\n",
    "        x_0, u_0 = np.zeros(n), 10 * np.ones(n)\n",
    "        datasets.append((A, b, x_0, u_0))\n",
    "\n",
    "experiment_b(datasets, regcoefs, (6, 4.5))"
   ]
  }
 ],
 "metadata": {
  "kernelspec": {
   "display_name": "Python 3",
   "language": "python",
   "name": "python3"
  },
  "language_info": {
   "codemirror_mode": {
    "name": "ipython",
    "version": 3
   },
   "file_extension": ".py",
   "mimetype": "text/x-python",
   "name": "python",
   "nbconvert_exporter": "python",
   "pygments_lexer": "ipython3",
   "version": "3.7.4"
  }
 },
 "nbformat": 4,
 "nbformat_minor": 2
}
